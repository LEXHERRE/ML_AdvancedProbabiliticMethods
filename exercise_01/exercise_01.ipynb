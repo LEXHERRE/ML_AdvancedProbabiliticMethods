{
 "cells": [
  {
   "cell_type": "markdown",
   "metadata": {
    "deletable": false,
    "editable": false,
    "nbgrader": {
     "cell_type": "markdown",
     "checksum": "fa66d7afb55d7e4d6d44788f2cd60126",
     "grade": false,
     "grade_id": "cell-81a11fcca9d13123",
     "locked": true,
     "schema_version": 3,
     "solution": false,
     "task": false
    }
   },
   "source": [
    "## CS-E4820 Machine Learning: Advanced Probabilistic Methods (spring 2021)\n",
    "\n",
    "Pekka Marttinen, Santosh Hiremath, Tianyu Cui, Yogesh Kumar, Zheyang Shen, Alexander Aushev, Khaoula El Mekkaoui, Shaoxiong Ji, Alexander Nikitin, Sebastiaan De Peuter, Joakim Järvinen.\n",
    "\n",
    "## Exercise 1, due on Tuesday 26th January at 23:00.\n",
    "\n",
    "#### Contents\n",
    "1. Problem 1: Coins\n",
    "2. Problem 2: False positive paradox\n",
    "3. Problem 3: Markov blanket definition"
   ]
  },
  {
   "cell_type": "markdown",
   "metadata": {
    "deletable": false,
    "editable": false,
    "nbgrader": {
     "cell_type": "markdown",
     "checksum": "a11a5ad2434f18e1e33edbad83f6a811",
     "grade": false,
     "grade_id": "cell-bc24dcb36e66ad40",
     "locked": true,
     "points": 2,
     "schema_version": 3,
     "solution": false,
     "task": true
    }
   },
   "source": [
    "## Problem 1: Coins\n",
    "\n",
    "There are two bent coins ($c_1$ and $c_2$) with different properties, and your objective is to guess which coin was used (i.e. the value of random variable $C \\in \\{c_1, c_2\\}$), after learning whether the result of the coin toss (i.e. the random variable $X \\in \\{\\mbox{h}, \\mbox{t}\\}$) was heads or tails.\n",
    "\n",
    "As prior knowledge, we know the probability of each coin resulting in tails: $p(X=\\mbox{t} \\mid C=c_1) = \\theta_1$ and $p(X=\\mbox{t} \\mid C=c_2) = \\theta_2$.\n",
    "In addition, the prior probability for using coin $c_1$ is known: $p(C=c_1) = \\pi_1$.\n",
    "\n",
    "Give the posterior probability of coin $c_1$ being used for the toss, $p(C=c_1 \\mid X)$, in terms of $\\theta_1$, $\\theta_2$ and $\\pi_1$, for both $X=\\mbox{t}$ and $X=\\mbox{h}$.\n",
    "\n",
    "Furthermore, plot the posterior probability of coin $c_1$, $p(C=c_1 \\mid X=\\mbox{t})$, as a function of $\\theta_1$, when we have $\\theta_2 = 0.5$ and $\\pi_1 = 0.5$.\n",
    "\n",
    "\n",
    "Write your solutions in LateX or attach a picture in the answer cell provided below. You can add a picture using the command ```!(imagename_in_the_folder.jpg)```. Latex in here works similarly as you would write it normally! You can use some of the definitions from the exercise description as a reference. The list of valid Latex commands in Jypyter notebook can be found here: http://www.onemathematicalcat.org/MathJaxDocumentation/TeXSyntax.htm\n",
    "\n"
   ]
  },
  {
   "cell_type": "markdown",
   "metadata": {},
   "source": [
    "### Solution:\n",
    "In this exercise for simplicity we will use $p(x)$ for expressing $p(X=x)$. \n",
    "\n",
    "With the given information we can extract that,\n",
    "\n",
    "$$p(c_1) = \\pi_1,\\;\\;\\; p(c_2) = 1-p(c_1) = 1 - \\pi_1.$$\n",
    "\n",
    "\n",
    "We also know that,\n",
    "\n",
    "$$p(\\textrm{t}|c_1) = \\frac{p(\\textrm{t},c_1)}{p(c_1)} = \\theta_1,$$\n",
    "\n",
    "$$p(\\textrm{t}|c_2) = \\frac{p(\\textrm{t},c_2)}{p(c_2)} = \\theta_2.$$\n",
    "\n",
    "\n",
    "Therefore,\n",
    "\n",
    "$$p(\\textrm{t},c_1) = \\theta_1p(c_1) = \\theta_1\\pi_1,$$\n",
    "\n",
    "$$p(\\textrm{t},c_2) = \\theta_2p(c_2) = \\theta_2(1-\\pi_1).$$\n",
    "\n",
    "And we want to obtain,\n",
    "\n",
    "$$p(c_1|\\textrm{t}) = \\frac{p(\\textrm{t},c_1)}{p(\\textrm{t})}, \\;\\;\\; p(c_1|\\textrm{h}) = \\frac{p(\\textrm{h},c_1)}{p(\\textrm{h})}.$$\n",
    "\n",
    "We can obtain that,\n",
    "\n",
    "$$p(\\textrm{t}) = p(\\textrm{t},c_1) + p(\\textrm{t},c_2) = \\theta_1\\pi_1 + \\theta_2(1-\\pi_1)$$\n",
    "\n",
    "$$p(\\textrm{h}) = 1-p(t) = 1 - (\\theta_1\\pi_1 + \\theta_2(1-\\pi_1))$$\n",
    "\n",
    "and \n",
    "\n",
    "$$p(\\textrm{t},c_1) = \\theta_1\\pi_1$$\n",
    "\n",
    "$$p(\\textrm{h},c_1) = \\pi_1 - \\theta_1\\pi_1 = (1-\\theta_1)\\pi_1$$\n",
    "\n",
    "Hence,\n",
    "\n",
    "$$p(c_1|\\textrm{t}) = \\frac{p(\\textrm{t},c_1)}{p(\\textrm{t})} = \\frac{\\theta_1\\pi_1}{\\theta_1\\pi_1 + \\theta_2(1-\\pi_1)}$$\n",
    "\n",
    "$$p(c_1|\\textrm{h}) = \\frac{p(\\textrm{h},c_1)}{p(\\textrm{h})} = \\frac{(1-\\theta_1)\\pi_1}{1 - (\\theta_1\\pi_1 + \\theta_2(1-\\pi_1))}$$"
   ]
  },
  {
   "cell_type": "markdown",
   "metadata": {},
   "source": [
    "|       | h | t | total |\n",
    "| :-: | :-: | :-: | :-: |\n",
    "| $\\mathbf{c_1}$ | $$(1-\\theta_1)\\pi_1$$ | $$\\theta_1\\pi_1$$ | $\\pi_1$  |\n",
    "| $\\mathbf{c_2}$ | $$(1-\\theta_2)(1-\\pi_1)$$ | $$\\theta_2(1-\\pi_1)$$ | $$1-\\pi_1$$|\n",
    "| $\\mathbf{total}$ | $$1 - (\\theta_1\\pi_1 + \\theta_2(1-\\pi_1))$$ | $$\\theta_1\\pi_1 + \\theta_2(1-\\pi_1)$$ | 1"
   ]
  },
  {
   "cell_type": "code",
   "execution_count": 28,
   "metadata": {
    "deletable": false,
    "nbgrader": {
     "cell_type": "code",
     "checksum": "cd0322302def95c65dcf81c531f9a29d",
     "grade": false,
     "grade_id": "cell-e90f90331ea43f79",
     "locked": false,
     "schema_version": 3,
     "solution": true,
     "task": false
    }
   },
   "outputs": [
    {
     "data": {
      "image/png": "[encoded data removed]",
      "text/plain": [
       "<Figure size 432x288 with 1 Axes>"
      ]
     },
     "metadata": {
      "needs_background": "light"
     },
     "output_type": "display_data"
    }
   ],
   "source": [
    "import matplotlib.pyplot as plt\n",
    "import numpy as np\n",
    "\n",
    "# define some variables:\n",
    "theta_2 = 0.5\n",
    "pi_1 = 0.5\n",
    "\n",
    "# compute posterior probability of c_1\n",
    "theta_1 = np.arange(0.1, 1.0, 0.1) # choose a reasonable range\n",
    "post_c1 = [(thet1*pi_1)/(thet1*pi_1+theta_2*(1-pi_1)) for thet1 in theta_1] # posterior\n",
    "\n",
    "# plot the result\n",
    "plt.plot(theta_1, post_c1)\n",
    "plt.title('$p(C = c_1 \\\\mid X = t)$ as a function of $\\\\theta_1$')\n",
    "plt.xlabel('$\\\\theta_1$')\n",
    "plt.show()"
   ]
  },
  {
   "cell_type": "markdown",
   "metadata": {
    "deletable": false,
    "editable": false,
    "nbgrader": {
     "cell_type": "markdown",
     "checksum": "19e422a9939e89609047e8f5e1edadd7",
     "grade": false,
     "grade_id": "cell-4500ce1134bbdbfa",
     "locked": true,
     "points": 2,
     "schema_version": 3,
     "solution": false,
     "task": true
    }
   },
   "source": [
    "## Problem 2: False positive paradox\n",
    "\n",
    "Consider a hypothetical lie detector that is ''fairly reliable'', in the sense that it will correctly detect 98\\% of all lies, and also classify as true 98\\% of all statements that are actually true.\n",
    "This lie detector is being used in an attempt to detect academic dishonesty, by asking ''did you cheat?'' from all students participating in an exam of a machine learning course.\n",
    "(This example is still hypothetical.)\n",
    "\n",
    "For the purposes of this question, assume as prior knowledge that there are 300 students taking the exam, and a single student has chosen to cheat.\n",
    "We will further assume that all students deny having cheated. \n",
    "If the detector now flags a particular student X as a cheater, how likely is it that X has, in fact, cheated in the exam?\n",
    "\n",
    "Write your solutions in LateX or attach a picture in the answer cell provided below. \n",
    "\n",
    "\n"
   ]
  },
  {
   "cell_type": "markdown",
   "metadata": {},
   "source": [
    "### Solution:\n",
    "\n",
    "When the actual cheater goes through the test, the probability that is detected as a cheater is 0,98.\n",
    "\n",
    "But at the same time when any of the other 299 students goes through the test there is a probability of 0,02 that is classified as the cheater. So there will be $299\\times0.02 = 5,98$ false positives.\n",
    "\n",
    "So the probability of obtaining a true positive is in fact $\\frac{0,98}{5,98+0,98} = 0,140804598$."
   ]
  },
  {
   "cell_type": "markdown",
   "metadata": {
    "deletable": false,
    "editable": false,
    "nbgrader": {
     "cell_type": "markdown",
     "checksum": "c08166977aa1369bc657868d8a618cce",
     "grade": false,
     "grade_id": "cell-3b24eb8a6cead773",
     "locked": true,
     "points": 2,
     "schema_version": 3,
     "solution": false,
     "task": true
    }
   },
   "source": [
    "## Problem 3: Markov blanket definition\n",
    "Consider the Bayesian network in below. What is the Markov blanket of each variable? (see Barber: [Bayesian Reasoning and Machine Learning](http://web4.cs.ucl.ac.uk/staff/D.Barber/pmwiki/pmwiki.php?n=Brml.Online), ch. 2.1, Definition 2.5)\n",
    "\n",
    "![](markov.png)\n",
    "Define Markov blanket for each variable $A,B,C,D,E,F$. You answer should list the nodes that form the Markov blanket for each node. For example, for node A, your answer should look like so $A = \\{B, D, E\\}$"
   ]
  },
  {
   "cell_type": "markdown",
   "metadata": {},
   "source": [
    "### Solution:\n",
    "\n",
    "$A = \\{ B,C,D,F\\}$ \n",
    "\n",
    "$B = \\{ A,C,D,E,F\\}$\n",
    "\n",
    "$C = \\{ A,B,D\\}$\n",
    "\n",
    "$D = \\{ A,B,C,E,F\\}$\n",
    "\n",
    "$E = \\{ B,D,F\\}$\n",
    "\n",
    "$F = \\{ A,B,D,E\\}$"
   ]
  },
  {
   "cell_type": "code",
   "execution_count": null,
   "metadata": {},
   "outputs": [],
   "source": []
  }
 ],
 "metadata": {
  "kernelspec": {
   "display_name": "Python 3",
   "language": "python",
   "name": "python3"
  },
  "language_info": {
   "codemirror_mode": {
    "name": "ipython",
    "version": 3
   },
   "file_extension": ".py",
   "mimetype": "text/x-python",
   "name": "python",
   "nbconvert_exporter": "python",
   "pygments_lexer": "ipython3",
   "version": "3.8.6"
  },
  "varInspector": {
   "cols": {
    "lenName": 16,
    "lenType": 16,
    "lenVar": 40
   },
   "kernels_config": {
    "python": {
     "delete_cmd_postfix": "",
     "delete_cmd_prefix": "del ",
     "library": "var_list.py",
     "varRefreshCmd": "print(var_dic_list())"
    },
    "r": {
     "delete_cmd_postfix": ") ",
     "delete_cmd_prefix": "rm(",
     "library": "var_list.r",
     "varRefreshCmd": "cat(var_dic_list()) "
    }
   },
   "types_to_exclude": [
    "module",
    "function",
    "builtin_function_or_method",
    "instance",
    "_Feature"
   ],
   "window_display": false
  }
 },
 "nbformat": 4,
 "nbformat_minor": 4
}
